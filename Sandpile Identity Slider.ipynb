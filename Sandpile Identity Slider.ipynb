{
 "cells": [
  {
   "cell_type": "code",
   "execution_count": 31,
   "metadata": {},
   "outputs": [
    {
     "data": {
      "application/vnd.jupyter.widget-view+json": {
       "model_id": "81e4bf54c11f447fadf9015f873c8a89"
      }
     },
     "metadata": {},
     "output_type": "display_data"
    }
   ],
   "source": [
    "import numpy as np\n",
    "import math\n",
    "\n",
    "# Expects the argument M to be an nxn matrix.\n",
    "# side effect on M!\n",
    "def lattice_iterate_fast(M,num_it):\n",
    "    n = len(M)\n",
    "    for k in range(0,num_it):\n",
    "        verticestotopple = []; \n",
    "        for i in range(0, n):\n",
    "            for j in range(0,n):\n",
    "                if (M[i][j] >= 4):\n",
    "                    verticestotopple.append((i,j));\n",
    "        for pair in verticestotopple:\n",
    "            chipFire(M,pair[0],pair[1]);\n",
    "    return M;\n",
    "\n",
    "def nrows(M): return(len(M))    \n",
    "def ncols(M): return(len(M[0]))\n",
    "    \n",
    "def Neighbors(M,i,j):\n",
    "    c = ncols(M)\n",
    "    r = nrows(M)\n",
    "    rows = []\n",
    "    cols = []\n",
    "    if i>0:\n",
    "        rows.append(i-1)\n",
    "    if i<r-1:\n",
    "        rows.append(i+1)\n",
    "    if j>0:\n",
    "        cols.append(j-1)\n",
    "    if j<c-1:\n",
    "        cols.append(j+1) \n",
    "    return [[a,j] for a in rows]+[[i,b] for b in cols]\n",
    "        \n",
    "\n",
    "def chipFire(M,i,j):  #### side effect on M!!!! \n",
    "    changed = False\n",
    "    if M[i,j]>3:\n",
    "        changed = True\n",
    "        M[i,j] = M[i,j]-4\n",
    "        for [a,b] in Neighbors(M,i,j):\n",
    "            M[a,b] += 1\n",
    "    return changed     \n",
    "\n",
    "def blitzFire(M):\n",
    "    changed = True\n",
    "    while changed == True:\n",
    "        changed = False\n",
    "        for i in range(nrows(M)):\n",
    "            for j in range(ncols(M)):\n",
    "                if chipFire(M,i,j):\n",
    "                    changed = True\n",
    "    return(M)\n",
    " \n",
    "#def squareShapeColor(i,j,size,color):\n",
    "#    return polygon([(i,j),(i,j+size),(i+size,j+size),(i+size,j)],rgbcolor=color,fill=True)\n",
    "        \n",
    "def matrixPlot(M,colors):\n",
    "    squares = []\n",
    "    r = nrows(M)\n",
    "    c = ncols(M)\n",
    "    for i in range(r):\n",
    "        for j in range(c):\n",
    "            squares.append(squareShapeColor(j,r-i+1,1,colors[M[i,j]]))\n",
    "    return sum(squares)\n",
    "\n",
    "def SPconstant(c,m,n):\n",
    "    M = constantMatrix(c,m,n)\n",
    "    blitzFire(M)        \n",
    "    return M\n",
    "\n",
    "\n",
    "def SPidentityElem(m,n):\n",
    "    M = constantMatrix(6,m,n)   ## 6 = 2*deg(v)-2\n",
    "    blitzFire(M)\n",
    "    M=constantMatrix(6,m,n)-M\n",
    "    blitzFire(M)\n",
    "    return M\n",
    "\n",
    "import numpy as np\n",
    "def constantMatrix(a,r,c):  ## a = value in every entry, r = rows, c=columns\n",
    "    return np.full((r,c),a)\n",
    "\n",
    "from __future__ import print_function\n",
    "from ipywidgets import interact, interactive, fixed, interact_manual\n",
    "import ipywidgets as widgets\n",
    "\n",
    "from IPython.display import display\n",
    "def f(gridsize,numit1,numit2):\n",
    "    M = np.full((gridsize,gridsize),6)\n",
    "    blitzFire(M)\n",
    "    sigmaminusstabsigma = np.full((gridsize,gridsize),6) - M\n",
    "    #print(sigmaminusstabsigma)\n",
    "    display(lattice_iterate_fast(np.full((gridsize,gridsize),6),numit1)\n",
    "                ,lattice_iterate_fast(sigmaminusstabsigma,numit2)\n",
    "           )\n",
    "    \n",
    "w = interactive(f, gridsize=widgets.IntSlider(min=1,max=300,step=1,value=5), \n",
    "                   numit1=widgets.IntSlider(min=0,max=300,step=1,value=0),\n",
    "                   numit2=widgets.IntSlider(min=0,max=300,step=1,value=0))\n",
    "display(w)\n",
    "\n",
    "##interact(f,numit=widgets.IntSlider(min=0,max=300,step=1,value=10));"
   ]
  },
  {
   "cell_type": "code",
   "execution_count": 13,
   "metadata": {},
   "outputs": [
    {
     "data": {
      "text/plain": [
       "array([[-1, -1, -1, -1, -1],\n",
       "       [-1, -1, -1, -1, -1],\n",
       "       [-1, -1, -1, -1, -1],\n",
       "       [-1, -1, -1, -1, -1],\n",
       "       [-1, -1, -1, -1, -1]])"
      ]
     },
     "execution_count": 13,
     "metadata": {},
     "output_type": "execute_result"
    }
   ],
   "source": [
    "np.full((5,5),-1)"
   ]
  },
  {
   "cell_type": "code",
   "execution_count": 26,
   "metadata": {},
   "outputs": [
    {
     "data": {
      "text/plain": [
       "array([[0, 2, 1, 1, 3, 3, 2, 3, 2, 3, 3, 1, 1, 2, 0],\n",
       "       [2, 0, 3, 3, 2, 3, 0, 3, 0, 3, 2, 3, 3, 0, 2],\n",
       "       [1, 3, 2, 2, 3, 2, 2, 0, 2, 2, 3, 2, 2, 3, 1],\n",
       "       [1, 3, 2, 0, 1, 3, 3, 2, 3, 3, 1, 0, 2, 3, 1],\n",
       "       [3, 2, 3, 1, 2, 2, 3, 2, 3, 2, 2, 1, 3, 2, 3],\n",
       "       [3, 3, 2, 3, 2, 0, 3, 2, 3, 0, 2, 3, 2, 3, 3],\n",
       "       [2, 0, 2, 3, 3, 3, 2, 2, 2, 3, 3, 3, 2, 0, 2],\n",
       "       [3, 3, 0, 2, 2, 2, 2, 2, 2, 2, 2, 2, 0, 3, 3],\n",
       "       [2, 0, 2, 3, 3, 3, 2, 2, 2, 3, 3, 3, 2, 0, 2],\n",
       "       [3, 3, 2, 3, 2, 0, 3, 2, 3, 0, 2, 3, 2, 3, 3],\n",
       "       [3, 2, 3, 1, 2, 2, 3, 2, 3, 2, 2, 1, 3, 2, 3],\n",
       "       [1, 3, 2, 0, 1, 3, 3, 2, 3, 3, 1, 0, 2, 3, 1],\n",
       "       [1, 3, 2, 2, 3, 2, 2, 0, 2, 2, 3, 2, 2, 3, 1],\n",
       "       [2, 0, 3, 3, 2, 3, 0, 3, 0, 3, 2, 3, 3, 0, 2],\n",
       "       [0, 2, 1, 1, 3, 3, 2, 3, 2, 3, 3, 1, 1, 2, 0]])"
      ]
     },
     "execution_count": 26,
     "metadata": {},
     "output_type": "execute_result"
    }
   ],
   "source": [
    "lattice_iterate_fast(np.full((15,15),6),130)"
   ]
  },
  {
   "cell_type": "code",
   "execution_count": null,
   "metadata": {
    "collapsed": true
   },
   "outputs": [],
   "source": []
  }
 ],
 "metadata": {
  "kernelspec": {
   "display_name": "Python 3",
   "language": "python",
   "name": "python3"
  },
  "language_info": {
   "codemirror_mode": {
    "name": "ipython",
    "version": 3
   },
   "file_extension": ".py",
   "mimetype": "text/x-python",
   "name": "python",
   "nbconvert_exporter": "python",
   "pygments_lexer": "ipython3",
   "version": "3.6.1"
  }
 },
 "nbformat": 4,
 "nbformat_minor": 2
}
